{
 "cells": [
  {
   "cell_type": "code",
   "execution_count": 1,
   "id": "5fbb956e-89a9-478c-b986-8d296b7c6641",
   "metadata": {},
   "outputs": [],
   "source": [
    "import numpy as np\n",
    "import matplotlib.pyplot as plt\n",
    "import pandas as pd\n",
    "import seaborn as sns\n",
    "\n",
    "from sklearn.datasets import load_breast_cancer\n",
    "from sklearn.model_selection import train_test_split\n",
    "from sklearn.preprocessing import StandardScaler\n",
    "from sklearn.decomposition import PCA\n",
    "from sklearn.decomposition import IncrementalPCA\n",
    "from sklearn.metrics import classification_report\n",
    "from sklearn.svm import SVC\n",
    "from sklearn.metrics import accuracy_score\n",
    "from sklearn.metrics import precision_recall_curve\n",
    "from sklearn import metrics\n"
   ]
  },
  {
   "cell_type": "code",
   "execution_count": 2,
   "id": "e9896050-53ac-44b4-a573-3ab9b22360d5",
   "metadata": {},
   "outputs": [],
   "source": [
    "dataset = load_breast_cancer()\n",
    "\n",
    "X = dataset.data\n",
    "\n",
    "Y = dataset.target"
   ]
  },
  {
   "cell_type": "code",
   "execution_count": 3,
   "id": "64567d2e-2bbc-44f5-8a22-dbdc07413363",
   "metadata": {},
   "outputs": [],
   "source": [
    "X_train, X_test, y_train, y_test = train_test_split(X, Y, train_size = 0.8, test_size = 0.2, random_state = 0)\n",
    "\n",
    "sc = StandardScaler()\n",
    "\n",
    "Xsc_train = sc.fit_transform(X_train)\n",
    "Xsc_test = sc.transform(X_test)"
   ]
  },
  {
   "cell_type": "code",
   "execution_count": 4,
   "id": "2530a448-0f17-4f41-85f2-f064a3d94503",
   "metadata": {},
   "outputs": [],
   "source": [
    "#sns.scatterplot(x=Xsc_train[:,0],y=Xsc_train[:,1],hue=y_train)"
   ]
  },
  {
   "cell_type": "code",
   "execution_count": 5,
   "id": "eac5707e-58d5-48df-8c60-ca8addffaa2d",
   "metadata": {},
   "outputs": [
    {
     "data": {
      "text/plain": [
       "PCA()"
      ]
     },
     "execution_count": 5,
     "metadata": {},
     "output_type": "execute_result"
    }
   ],
   "source": [
    "model = PCA()\n",
    "\n",
    "model.fit(Xsc_train)\n",
    "\n",
    "#explained_variance = np.cumsum(model.explained_variance_ratio_)\n",
    "#plt.plot(explained_variance)"
   ]
  },
  {
   "cell_type": "code",
   "execution_count": 32,
   "id": "40fe44f1-3a15-4fb8-b7f1-a024b4498d11",
   "metadata": {},
   "outputs": [],
   "source": [
    "PCA_train = IncrementalPCA(n_components = 15)\n",
    "df_train = PCA_train.fit_transform(Xsc_train)\n",
    "df_test = PCA_train.transform(Xsc_test)"
   ]
  },
  {
   "cell_type": "code",
   "execution_count": 33,
   "id": "d7641df0-51e2-4f81-9903-ff7c6c427bac",
   "metadata": {},
   "outputs": [],
   "source": [
    "svc_lin = SVC(kernel='linear', C=100)\n",
    "svc_rbf = SVC(kernel='rbf', C=100)\n",
    "svc_ply = SVC(kernel='poly', C=100)\n",
    "\n",
    "svc_lin = svc_lin.fit(df_train, y_train)\n",
    "svc_rbf = svc_rbf.fit(df_train, y_train)\n",
    "svc_ply = svc_ply.fit(df_train, y_train)"
   ]
  },
  {
   "cell_type": "code",
   "execution_count": 34,
   "id": "c344ae2b-f35f-4675-b51b-9c7893a39244",
   "metadata": {},
   "outputs": [
    {
     "name": "stdout",
     "output_type": "stream",
     "text": [
      "Linear:               precision    recall  f1-score   support\n",
      "\n",
      "           0     0.9375    0.9574    0.9474        47\n",
      "           1     0.9697    0.9552    0.9624        67\n",
      "\n",
      "    accuracy                         0.9561       114\n",
      "   macro avg     0.9536    0.9563    0.9549       114\n",
      "weighted avg     0.9564    0.9561    0.9562       114\n",
      "\n",
      "RBF:               precision    recall  f1-score   support\n",
      "\n",
      "           0     0.9038    1.0000    0.9495        47\n",
      "           1     1.0000    0.9254    0.9612        67\n",
      "\n",
      "    accuracy                         0.9561       114\n",
      "   macro avg     0.9519    0.9627    0.9554       114\n",
      "weighted avg     0.9604    0.9561    0.9564       114\n",
      "\n",
      "Poly:               precision    recall  f1-score   support\n",
      "\n",
      "           0     0.9783    0.9574    0.9677        47\n",
      "           1     0.9706    0.9851    0.9778        67\n",
      "\n",
      "    accuracy                         0.9737       114\n",
      "   macro avg     0.9744    0.9713    0.9728       114\n",
      "weighted avg     0.9738    0.9737    0.9736       114\n",
      "\n"
     ]
    }
   ],
   "source": [
    "predicted_lin = svc_lin.predict(df_test)\n",
    "predicted_rbf = svc_rbf.predict(df_test)\n",
    "predicted_ply = svc_ply.predict(df_test)\n",
    "\n",
    "print('Linear:',classification_report(y_test,predicted_lin, digits=4))\n",
    "print('RBF:',classification_report(y_test,predicted_rbf, digits=4))\n",
    "print('Poly:',classification_report(y_test,predicted_ply, digits=4))"
   ]
  },
  {
   "cell_type": "code",
   "execution_count": 35,
   "id": "f49d3f14-dac2-4542-8b5b-b39544e4713c",
   "metadata": {},
   "outputs": [
    {
     "name": "stdout",
     "output_type": "stream",
     "text": [
      "Accuracy: 0.956140350877193\n",
      "Precision: 0.9696969696969697\n",
      "Recall: 0.9552238805970149\n"
     ]
    }
   ],
   "source": [
    "print('Accuracy:',accuracy_score(y_test,predicted_lin))\n",
    "print('Precision:',metrics.precision_score(y_test,predicted_lin))\n",
    "print('Recall:',metrics.recall_score(y_test,predicted_lin))"
   ]
  },
  {
   "cell_type": "code",
   "execution_count": 36,
   "id": "bf750eff-8218-417f-96bc-bc9de427c5a4",
   "metadata": {},
   "outputs": [
    {
     "name": "stdout",
     "output_type": "stream",
     "text": [
      "Accuracy: 0.956140350877193\n",
      "Precision: 1.0\n",
      "Recall: 0.9253731343283582\n"
     ]
    }
   ],
   "source": [
    "print('Accuracy:',accuracy_score(y_test,predicted_rbf))\n",
    "print('Precision:',metrics.precision_score(y_test,predicted_rbf))\n",
    "print('Recall:',metrics.recall_score(y_test,predicted_rbf))"
   ]
  },
  {
   "cell_type": "code",
   "execution_count": 37,
   "id": "758f85ae-2c73-476a-a45a-e4f3b46ac80c",
   "metadata": {},
   "outputs": [
    {
     "name": "stdout",
     "output_type": "stream",
     "text": [
      "Accuracy: 0.9736842105263158\n",
      "Precision: 0.9705882352941176\n",
      "Recall: 0.9850746268656716\n"
     ]
    }
   ],
   "source": [
    "print('Accuracy:',accuracy_score(y_test,predicted_ply))\n",
    "print('Precision:',metrics.precision_score(y_test,predicted_ply))\n",
    "print('Recall:',metrics.recall_score(y_test,predicted_ply))"
   ]
  },
  {
   "cell_type": "code",
   "execution_count": null,
   "id": "478014e5-4a6b-4f18-9c26-3a6b2355e980",
   "metadata": {},
   "outputs": [],
   "source": []
  }
 ],
 "metadata": {
  "kernelspec": {
   "display_name": "Python 3 (ipykernel)",
   "language": "python",
   "name": "python3"
  },
  "language_info": {
   "codemirror_mode": {
    "name": "ipython",
    "version": 3
   },
   "file_extension": ".py",
   "mimetype": "text/x-python",
   "name": "python",
   "nbconvert_exporter": "python",
   "pygments_lexer": "ipython3",
   "version": "3.9.13"
  }
 },
 "nbformat": 4,
 "nbformat_minor": 5
}
